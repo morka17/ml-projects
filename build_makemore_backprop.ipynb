{
 "cells": [
  {
   "cell_type": "code",
   "execution_count": 1,
   "metadata": {},
   "outputs": [],
   "source": [
    "import torch \n",
    "import torch.nn.functional as F \n",
    "import matplotlib.pyplot as plt \n",
    "%matplotlib inline  \n",
    "\n",
    "import os \n",
    "import random"
   ]
  },
  {
   "cell_type": "code",
   "execution_count": 2,
   "metadata": {},
   "outputs": [],
   "source": [
    "filename = os.path.join(\"datasets\", \"names.txt\")"
   ]
  },
  {
   "cell_type": "code",
   "execution_count": 4,
   "metadata": {},
   "outputs": [
    {
     "name": "stdout",
     "output_type": "stream",
     "text": [
      "{1: 'a', 2: 'b', 3: 'c', 4: 'd', 5: 'e', 6: 'f', 7: 'g', 8: 'h', 9: 'i', 10: 'j', 11: 'k', 12: 'l', 13: 'm', 14: 'n', 15: 'o', 16: 'p', 17: 'q', 18: 'r', 19: 's', 20: 't', 21: 'u', 22: 'v', 23: 'w', 24: 'x', 25: 'y', 26: 'z', 0: '.'}\n",
      "27\n"
     ]
    }
   ],
   "source": [
    "# Read in all the words \n",
    "words = open(filename, 'r').read().splitlines()\n",
    "# build the vocabulary of characters and mappings to/from integers \n",
    "chars = sorted(list(set(''.join(words))))\n",
    "stoi = {s: i + 1 for i, s in enumerate(chars)}\n",
    "stoi['.'] = 0 \n",
    "itos = {i:s for s, i in stoi.items()}\n",
    "vocab_size = len(itos)\n",
    "print(itos)\n",
    "print(vocab_size)"
   ]
  },
  {
   "cell_type": "code",
   "execution_count": 7,
   "metadata": {},
   "outputs": [],
   "source": [
    "block_size = 3 \n",
    "# build the dataset \n",
    "\n",
    "def build_dataset(words):\n",
    "    X, Y = [], []\n",
    "    for w in words:\n",
    "\n",
    "        # print(w)\n",
    "        context = [0] * block_size \n",
    "        for ch in w + '.': \n",
    "            ix = stoi[ch]\n",
    "            X.append(context)\n",
    "            Y.append(ix)\n",
    "            # print(''.join(itos[i] for i in context), '------->' ,itos[ix])\n",
    "            context = context[1:] + [ix] # crop and append \n",
    "\n",
    "\n",
    "    X = torch.tensor(X)\n",
    "    Y = torch.tensor(Y)\n",
    "    return X, Y \n",
    "\n",
    "\n",
    "random.seed(42)\n",
    "random.shuffle(words)\n",
    "n1 = int(0.8 * len(words))\n",
    "n2 = int(0.9 * len(words))\n",
    "\n",
    "\n",
    "Xtr, Ytr = build_dataset(words[:n1])\n",
    "Xdev, Ydev = build_dataset(words[n1:n2])\n",
    "Xte, Yte = build_dataset(words[n2:])\n"
   ]
  },
  {
   "cell_type": "code",
   "execution_count": 6,
   "metadata": {},
   "outputs": [],
   "source": [
    "# ok biolerplate done, now we get to the action \n",
    "def cmp(s, dt, t):\n",
    "    ex = torch.all(dt == t.grad).item()\n",
    "    app = torch.allclose(dt, t.grad)\n",
    "    maxdiff = (dt - t.grad).abs().max().item()\n",
    "    print(f\"{s:15s} | exact: {str(ex):5s} | approximation: {str(app):5s} | maxdiff: {maxdiff}\")"
   ]
  },
  {
   "cell_type": "code",
   "execution_count": 12,
   "metadata": {},
   "outputs": [
    {
     "name": "stdout",
     "output_type": "stream",
     "text": [
      "12297\n"
     ]
    }
   ],
   "source": [
    "n_embd = 10 \n",
    "n_hidden = 200\n",
    "\n",
    "\n",
    "g = torch.Generator().manual_seed(2147483647)   # for reproducibility \n",
    "C = torch.randn((vocab_size, n_embd), generator=g)\n",
    "# Layer 1 \n",
    "W1 = torch.randn((n_embd * block_size, n_hidden), generator=g)  * (5/3)/((n_embd * block_size) ** 0.5)\n",
    "b1 = torch.randn(n_hidden, generator=g) * 0.1\n",
    "# Layer 2 \n",
    "W2 = torch.randn((n_hidden, vocab_size), generator=g) * 0.1\n",
    "b2 = torch.randn(vocab_size, generator=g)    * 0.1\n",
    "\n",
    "\n",
    "# Bash Normalization \n",
    "bngain = torch.ones((1, n_hidden)) * 0.1 + 1.0 \n",
    "bnbias = torch.zeros((1, n_hidden)) * 0.1 \n",
    "\n",
    "# bnmean_running = torch.ones((1, n_hidden))   # Will be updated during training \n",
    "# bnstd_running = torch.zeros((1, n_hidden))   # Will be updated during training \n",
    "\n",
    "\n",
    "parameters = [C, W1, b1, W2, b2, bngain, bnbias]\n",
    "print(sum(p.nelement() for p in parameters ))  # Number of parameters in total \n",
    "for p in parameters:\n",
    "    p.requires_grad = True  "
   ]
  },
  {
   "cell_type": "code",
   "execution_count": 13,
   "metadata": {},
   "outputs": [],
   "source": [
    "batch_size = 32 \n",
    "n = batch_size \n",
    "# construct a minibatch \n",
    "ix = torch.randint(0, Xtr.shape[0], (batch_size, ), generator=g)\n",
    "Xb, Yb = Xtr[ix], Ytr[ix] # batch x, y  "
   ]
  },
  {
   "cell_type": "code",
   "execution_count": 15,
   "metadata": {},
   "outputs": [
    {
     "data": {
      "text/plain": [
       "tensor(3.6560, grad_fn=<NegBackward0>)"
      ]
     },
     "execution_count": 15,
     "metadata": {},
     "output_type": "execute_result"
    }
   ],
   "source": [
    "# forward pass, \"chunkated\" into smaller steps that are possible to backward one at a time \n",
    "emb = C[Xb]  # embed the characters into vectors \n",
    "embcat = emb.view(emb.shape[0], -1)  # concatenate the vectors \n",
    "# Linear layer 1 \n",
    "hprebn = embcat @ W1 + b1  # hidden layer pre-activation \n",
    "# BatchNorm layer \n",
    "bnmean1 = 1/n*hprebn.sum(0, keepdim=True)\n",
    "bndiff = hprebn - bnmean1 \n",
    "bndiff2 = bndiff**2 \n",
    "bnvar = 1/(n-1)*(bndiff2).sum(0, keepdim=True)\n",
    "bnvar_inv = (bnvar + 1e-5)**-0.5\n",
    "bnraw = bndiff * bnvar_inv\n",
    "hpreact = bngain * bnraw + bnbias \n",
    "# Non-linearity \n",
    "h = torch.tanh(hpreact) # hidden layer \n",
    "\n",
    "# Linear layer 2 \n",
    "logits = h @ W2 + b2 # output layer \n",
    "# cross entropy loss (smae as F.cross_entropy(logits, Yb))\n",
    "logit_maxes = logits.max(1, keepdim=True).values \n",
    "norm_logits = logits - logit_maxes  # subtract max for numerical stability \n",
    "counts = norm_logits.exp()\n",
    "counts_sum = counts.sum(1, keepdim=True)\n",
    "counts_sum_inv = counts_sum**-1 \n",
    "probs = counts * counts_sum_inv\n",
    "logprobs = probs.log()\n",
    "loss = -logprobs[range(n), Yb].mean()\n",
    "\n",
    "\n",
    "# PyTorch backward pass \n",
    "for p in parameters:\n",
    "    p.grad = None \n",
    "for t in [logprobs, probs, counts, counts_sum, counts_sum_inv, norm_logits, logit_maxes, logits, h, hpreact, bnraw, bnvar_inv, bnvar, bndiff2, bndiff, hprebn, bnmean1, embcat, emb]:\n",
    "    t.retain_grad()\n",
    "loss.backward()\n",
    "loss \n",
    "\n"
   ]
  },
  {
   "cell_type": "code",
   "execution_count": 35,
   "metadata": {},
   "outputs": [
    {
     "name": "stdout",
     "output_type": "stream",
     "text": [
      "logprobs        | exact: True  | approximation: True  | maxdiff: 0.0\n",
      "probs           | exact: True  | approximation: True  | maxdiff: 0.0\n",
      "count_sum_inv   | exact: True  | approximation: True  | maxdiff: 0.0\n",
      "count_sum       | exact: True  | approximation: True  | maxdiff: 0.0\n",
      "count           | exact: True  | approximation: True  | maxdiff: 0.0\n",
      "dnorm_logits    | exact: True  | approximation: True  | maxdiff: 0.0\n",
      "dlogit_maxes    | exact: True  | approximation: True  | maxdiff: 0.0\n",
      "dh              | exact: True  | approximation: True  | maxdiff: 0.0\n",
      "dW2             | exact: True  | approximation: True  | maxdiff: 0.0\n",
      "db2             | exact: True  | approximation: True  | maxdiff: 0.0\n",
      "dhreact         | exact: True  | approximation: True  | maxdiff: 0.0\n",
      "dbngain         | exact: True  | approximation: True  | maxdiff: 0.0\n",
      "dbnraw          | exact: True  | approximation: True  | maxdiff: 0.0\n",
      "dbnbias         | exact: True  | approximation: True  | maxdiff: 0.0\n",
      "dbndiff         | exact: True  | approximation: True  | maxdiff: 0.0\n",
      "dbnvar_inv      | exact: True  | approximation: True  | maxdiff: 0.0\n",
      "dbnvar          | exact: True  | approximation: True  | maxdiff: 0.0\n",
      "dbndiff2        | exact: True  | approximation: True  | maxdiff: 0.0\n",
      "dbnmeani        | exact: True  | approximation: True  | maxdiff: 0.0\n",
      "dhprebn         | exact: True  | approximation: True  | maxdiff: 0.0\n",
      "dembcat         | exact: True  | approximation: True  | maxdiff: 0.0\n",
      "dW1             | exact: True  | approximation: True  | maxdiff: 0.0\n",
      "db1             | exact: True  | approximation: True  | maxdiff: 0.0\n",
      "demb            | exact: True  | approximation: True  | maxdiff: 0.0\n",
      "dC              | exact: True  | approximation: True  | maxdiff: 0.0\n"
     ]
    }
   ],
   "source": [
    "dlogprobs = torch.zeros_like(logprobs)\n",
    "dlogprobs[range(n), Yb] = -1.0/n\n",
    "dprops = (1.0 / probs) * dlogprobs\n",
    "dcounts_sum_inv = (counts * dprops).sum(1, keepdim=True)\n",
    "dcounts = counts_sum_inv * dprops\n",
    "dcounts_sum = (-counts_sum**-2) * dcounts_sum_inv\n",
    "dcounts += torch.ones_like(counts) * dcounts_sum\n",
    "dnorm_logits = counts * dcounts \n",
    "dlogits = dnorm_logits.clone()\n",
    "dlogit_maxes = (-dnorm_logits).sum(1, keepdim=True)\n",
    "dlogits += F.one_hot(logits.max(1).indices, num_classes=logits.shape[1] ) * dlogit_maxes\n",
    "dh = dlogits @ W2.T \n",
    "dW2  = h.T @ dlogits\n",
    "db2 = dlogits.sum(0)\n",
    "dhreact = (1.0 - h**2) * dh\n",
    "dbngain = (bnraw * dhreact).sum(0, keepdim=True)\n",
    "dbnraw = (bngain * dhreact )\n",
    "dbnbias = dhreact.sum(0, keepdim=True)\n",
    "dbndiff = bnvar_inv * dbnraw \n",
    "dbnvar_inv = (bndiff * dbnraw ).sum(0, keepdim=True)\n",
    "dbnvar = (-0.5*(bnvar + 1e-5)**-1.5) * dbnvar_inv\n",
    "dbndiff2 = (1.0 / (n-1)) * torch.ones_like(bndiff2) * dbnvar\n",
    "dbndiff += (2 * bndiff) * dbndiff2\n",
    "dhprebn = dbndiff.clone()\n",
    "dbnmeani = (-dbndiff).sum(0)\n",
    "dhprebn += 1.0/n  * (torch.ones_like(hprebn) * dbnmeani)\n",
    "dembcat = dhprebn @ W1.T\n",
    "dW1 = embcat.T @ dhprebn\n",
    "db1= dhprebn.sum(0)\n",
    "demb = dembcat.view(emb.shape)\n",
    "dC = torch.zeros_like(C)\n",
    "for k in range(Xb.shape[0]):\n",
    "    for j in range(Xb.shape[1]):\n",
    "        ix = Xb[k,j]\n",
    "        dC[ix] += demb[k,j]\n",
    "\n",
    "cmp(\"logprobs\", dlogprobs, logprobs)\n",
    "cmp(\"probs\", dprops, probs)\n",
    "cmp(\"count_sum_inv\", dcounts_sum_inv, counts_sum_inv)\n",
    "cmp(\"count_sum\", dcounts_sum, counts_sum)\n",
    "cmp(\"count\", dcounts, counts)\n",
    "cmp(\"dnorm_logits\", dnorm_logits, norm_logits)\n",
    "cmp(\"dlogit_maxes\", dlogit_maxes, logit_maxes)\n",
    "cmp(\"dh\", dh, h)\n",
    "cmp(\"dW2\", dW2, W2)\n",
    "cmp(\"db2\", db2, b2)\n",
    "cmp(\"dhreact\", dhreact, hpreact)\n",
    "cmp(\"dbngain\", dbngain, bngain)\n",
    "cmp(\"dbnraw\", dbnraw, bnraw)\n",
    "cmp(\"dbnbias\", dbnbias, bnbias)\n",
    "cmp(\"dbndiff\", dbndiff, bndiff)\n",
    "cmp(\"dbnvar_inv\", dbnvar_inv, bnvar_inv)\n",
    "cmp(\"dbnvar\", dbnvar, bnvar)\n",
    "cmp(\"dbndiff2\", dbndiff2, bndiff2)\n",
    "cmp(\"dbnmeani\", dbnmeani, bnmean1)\n",
    "cmp(\"dhprebn\", dhprebn, hprebn)\n",
    "cmp(\"dembcat\", dembcat, embcat)\n",
    "cmp(\"dW1\", dW1, W1)\n",
    "cmp(\"db1\", db1, b1)\n",
    "cmp(\"demb\", demb, emb)\n",
    "cmp(\"dC\", dC, C)"
   ]
  },
  {
   "cell_type": "code",
   "execution_count": null,
   "metadata": {},
   "outputs": [],
   "source": []
  },
  {
   "cell_type": "code",
   "execution_count": null,
   "metadata": {},
   "outputs": [
    {
     "name": "stdout",
     "output_type": "stream",
     "text": [
      "logits          | exact: False | approximation: True  | maxdiff: 6.51925802230835e-09\n"
     ]
    }
   ],
   "source": [
    "dlogits = F.softmax(logits, 1)\n",
    "dlogits[range(n), Yb] -= 1 \n",
    "dlogits /= n \n",
    "\n",
    "cmp(\"logits\", dlogits, logits)  # I can only get approximate to be true, my maxdiff is 6e-9\n"
   ]
  },
  {
   "cell_type": "code",
   "execution_count": null,
   "metadata": {},
   "outputs": [
    {
     "name": "stdout",
     "output_type": "stream",
     "text": [
      "hprebn          | exact: False | approximation: True  | maxdiff: 9.313225746154785e-10\n"
     ]
    }
   ],
   "source": [
    "dhprebn = bngain * bnvar_inv/n * (n*dhreact - dhreact.sum(0) - n/(n-1)*bnraw*(dhreact*bnraw).sum(0))\n",
    "\n",
    "cmp(\"hprebn\", dhprebn, hprebn)"
   ]
  },
  {
   "cell_type": "code",
   "execution_count": 37,
   "metadata": {},
   "outputs": [
    {
     "data": {
      "text/plain": [
       "(torch.Size([32, 27]), torch.Size([32]))"
      ]
     },
     "execution_count": 37,
     "metadata": {},
     "output_type": "execute_result"
    }
   ],
   "source": [
    "logits.shape, Yb.shape"
   ]
  },
  {
   "cell_type": "code",
   "execution_count": 40,
   "metadata": {},
   "outputs": [
    {
     "data": {
      "text/plain": [
       "tensor([0.0194, 0.0071, 0.0038, 0.0204, 0.1258, 0.0635, 0.0402, 0.0110, 0.0333,\n",
       "        0.0056, 0.0066, 0.0051, 0.0188, 0.0876, 0.0055, 0.0028, 0.0441, 0.0144,\n",
       "        0.0097, 0.0667, 0.0450, 0.0020, 0.2198, 0.1213, 0.0069, 0.0123, 0.0013],\n",
       "       grad_fn=<SelectBackward0>)"
      ]
     },
     "execution_count": 40,
     "metadata": {},
     "output_type": "execute_result"
    }
   ],
   "source": [
    "F.softmax(logits, 1)[0]"
   ]
  },
  {
   "cell_type": "code",
   "execution_count": 38,
   "metadata": {},
   "outputs": [
    {
     "data": {
      "text/plain": [
       "tensor([ 0.0194,  0.0071,  0.0038,  0.0204,  0.1258, -0.9365,  0.0402,  0.0110,\n",
       "         0.0333,  0.0056,  0.0066,  0.0051,  0.0188,  0.0876,  0.0055,  0.0028,\n",
       "         0.0441,  0.0144,  0.0097,  0.0667,  0.0450,  0.0020,  0.2198,  0.1213,\n",
       "         0.0069,  0.0123,  0.0013], grad_fn=<MulBackward0>)"
      ]
     },
     "execution_count": 38,
     "metadata": {},
     "output_type": "execute_result"
    }
   ],
   "source": [
    "dlogits[0] * n "
   ]
  },
  {
   "cell_type": "code",
   "execution_count": 39,
   "metadata": {},
   "outputs": [
    {
     "data": {
      "text/plain": [
       "<matplotlib.image.AxesImage at 0x2b0dbe63080>"
      ]
     },
     "execution_count": 39,
     "metadata": {},
     "output_type": "execute_result"
    },
    {
     "data": {
      "image/png": "[encoded data removed]",
      "text/plain": [
       "<Figure size 800x800 with 1 Axes>"
      ]
     },
     "metadata": {},
     "output_type": "display_data"
    }
   ],
   "source": [
    "plt.figure(figsize=(8, 8))\n",
    "plt.imshow(dlogits.detach(), cmap=\"gray\")"
   ]
  },
  {
   "cell_type": "code",
   "execution_count": null,
   "metadata": {},
   "outputs": [],
   "source": []
  }
 ],
 "metadata": {
  "kernelspec": {
   "display_name": "Python 3",
   "language": "python",
   "name": "python3"
  },
  "language_info": {
   "codemirror_mode": {
    "name": "ipython",
    "version": 3
   },
   "file_extension": ".py",
   "mimetype": "text/x-python",
   "name": "python",
   "nbconvert_exporter": "python",
   "pygments_lexer": "ipython3",
   "version": "3.12.9"
  }
 },
 "nbformat": 4,
 "nbformat_minor": 2
}
